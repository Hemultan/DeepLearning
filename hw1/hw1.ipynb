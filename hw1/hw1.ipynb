{
 "cells": [
  {
   "cell_type": "code",
   "execution_count": 1,
   "id": "00dcf255",
   "metadata": {},
   "outputs": [],
   "source": [
    "import torch\n",
    "from torch import autograd\n",
    "from torch.utils.data import TensorDataset, DataLoader\n",
    "from torch import nn\n",
    "\n",
    "import pandas as pd\n",
    "import random\n",
    "import warnings\n",
    "warnings.filterwarnings('ignore')"
   ]
  },
  {
   "cell_type": "markdown",
   "id": "7c9126f5",
   "metadata": {},
   "source": [
    "### 1. Загрузите и подготовьте данные"
   ]
  },
  {
   "cell_type": "code",
   "execution_count": 2,
   "id": "ad6297c8",
   "metadata": {},
   "outputs": [
    {
     "data": {
      "text/html": [
       "<div>\n",
       "<style scoped>\n",
       "    .dataframe tbody tr th:only-of-type {\n",
       "        vertical-align: middle;\n",
       "    }\n",
       "\n",
       "    .dataframe tbody tr th {\n",
       "        vertical-align: top;\n",
       "    }\n",
       "\n",
       "    .dataframe thead th {\n",
       "        text-align: right;\n",
       "    }\n",
       "</style>\n",
       "<table border=\"1\" class=\"dataframe\">\n",
       "  <thead>\n",
       "    <tr style=\"text-align: right;\">\n",
       "      <th></th>\n",
       "      <th>longitude</th>\n",
       "      <th>latitude</th>\n",
       "      <th>housing_median_age</th>\n",
       "      <th>total_rooms</th>\n",
       "      <th>total_bedrooms</th>\n",
       "      <th>population</th>\n",
       "      <th>households</th>\n",
       "      <th>median_income</th>\n",
       "      <th>median_house_value</th>\n",
       "      <th>ocean_proximity</th>\n",
       "    </tr>\n",
       "  </thead>\n",
       "  <tbody>\n",
       "    <tr>\n",
       "      <th>0</th>\n",
       "      <td>-122.23</td>\n",
       "      <td>37.88</td>\n",
       "      <td>41.0</td>\n",
       "      <td>880.0</td>\n",
       "      <td>129.0</td>\n",
       "      <td>322.0</td>\n",
       "      <td>126.0</td>\n",
       "      <td>8.3252</td>\n",
       "      <td>452600.0</td>\n",
       "      <td>NEAR BAY</td>\n",
       "    </tr>\n",
       "    <tr>\n",
       "      <th>1</th>\n",
       "      <td>-122.22</td>\n",
       "      <td>37.86</td>\n",
       "      <td>21.0</td>\n",
       "      <td>7099.0</td>\n",
       "      <td>1106.0</td>\n",
       "      <td>2401.0</td>\n",
       "      <td>1138.0</td>\n",
       "      <td>8.3014</td>\n",
       "      <td>358500.0</td>\n",
       "      <td>NEAR BAY</td>\n",
       "    </tr>\n",
       "    <tr>\n",
       "      <th>2</th>\n",
       "      <td>-122.24</td>\n",
       "      <td>37.85</td>\n",
       "      <td>52.0</td>\n",
       "      <td>1467.0</td>\n",
       "      <td>190.0</td>\n",
       "      <td>496.0</td>\n",
       "      <td>177.0</td>\n",
       "      <td>7.2574</td>\n",
       "      <td>352100.0</td>\n",
       "      <td>NEAR BAY</td>\n",
       "    </tr>\n",
       "    <tr>\n",
       "      <th>3</th>\n",
       "      <td>-122.25</td>\n",
       "      <td>37.85</td>\n",
       "      <td>52.0</td>\n",
       "      <td>1274.0</td>\n",
       "      <td>235.0</td>\n",
       "      <td>558.0</td>\n",
       "      <td>219.0</td>\n",
       "      <td>5.6431</td>\n",
       "      <td>341300.0</td>\n",
       "      <td>NEAR BAY</td>\n",
       "    </tr>\n",
       "    <tr>\n",
       "      <th>4</th>\n",
       "      <td>-122.25</td>\n",
       "      <td>37.85</td>\n",
       "      <td>52.0</td>\n",
       "      <td>1627.0</td>\n",
       "      <td>280.0</td>\n",
       "      <td>565.0</td>\n",
       "      <td>259.0</td>\n",
       "      <td>3.8462</td>\n",
       "      <td>342200.0</td>\n",
       "      <td>NEAR BAY</td>\n",
       "    </tr>\n",
       "  </tbody>\n",
       "</table>\n",
       "</div>"
      ],
      "text/plain": [
       "   longitude  latitude  housing_median_age  total_rooms  total_bedrooms  \\\n",
       "0    -122.23     37.88                41.0        880.0           129.0   \n",
       "1    -122.22     37.86                21.0       7099.0          1106.0   \n",
       "2    -122.24     37.85                52.0       1467.0           190.0   \n",
       "3    -122.25     37.85                52.0       1274.0           235.0   \n",
       "4    -122.25     37.85                52.0       1627.0           280.0   \n",
       "\n",
       "   population  households  median_income  median_house_value ocean_proximity  \n",
       "0       322.0       126.0         8.3252            452600.0        NEAR BAY  \n",
       "1      2401.0      1138.0         8.3014            358500.0        NEAR BAY  \n",
       "2       496.0       177.0         7.2574            352100.0        NEAR BAY  \n",
       "3       558.0       219.0         5.6431            341300.0        NEAR BAY  \n",
       "4       565.0       259.0         3.8462            342200.0        NEAR BAY  "
      ]
     },
     "execution_count": 2,
     "metadata": {},
     "output_type": "execute_result"
    }
   ],
   "source": [
    "data = pd.read_csv('housing.csv')\n",
    "data.head()"
   ]
  },
  {
   "cell_type": "code",
   "execution_count": 3,
   "id": "12dcc6e2",
   "metadata": {},
   "outputs": [
    {
     "name": "stdout",
     "output_type": "stream",
     "text": [
      "<class 'pandas.core.frame.DataFrame'>\n",
      "RangeIndex: 20640 entries, 0 to 20639\n",
      "Data columns (total 10 columns):\n",
      " #   Column              Non-Null Count  Dtype  \n",
      "---  ------              --------------  -----  \n",
      " 0   longitude           20640 non-null  float64\n",
      " 1   latitude            20640 non-null  float64\n",
      " 2   housing_median_age  20640 non-null  float64\n",
      " 3   total_rooms         20640 non-null  float64\n",
      " 4   total_bedrooms      20433 non-null  float64\n",
      " 5   population          20640 non-null  float64\n",
      " 6   households          20640 non-null  float64\n",
      " 7   median_income       20640 non-null  float64\n",
      " 8   median_house_value  20640 non-null  float64\n",
      " 9   ocean_proximity     20640 non-null  object \n",
      "dtypes: float64(9), object(1)\n",
      "memory usage: 1.6+ MB\n"
     ]
    }
   ],
   "source": [
    "data.info()"
   ]
  },
  {
   "cell_type": "code",
   "execution_count": 4,
   "id": "e4106420",
   "metadata": {},
   "outputs": [
    {
     "data": {
      "text/plain": [
       "longitude               0\n",
       "latitude                0\n",
       "housing_median_age      0\n",
       "total_rooms             0\n",
       "total_bedrooms        207\n",
       "population              0\n",
       "households              0\n",
       "median_income           0\n",
       "median_house_value      0\n",
       "ocean_proximity         0\n",
       "dtype: int64"
      ]
     },
     "execution_count": 4,
     "metadata": {},
     "output_type": "execute_result"
    }
   ],
   "source": [
    "data.isna().sum()"
   ]
  },
  {
   "cell_type": "code",
   "execution_count": 5,
   "id": "0567f7ec",
   "metadata": {},
   "outputs": [],
   "source": [
    "data = data.dropna()"
   ]
  },
  {
   "cell_type": "code",
   "execution_count": 6,
   "id": "6bf3a55b",
   "metadata": {},
   "outputs": [
    {
     "data": {
      "text/plain": [
       "ocean_proximity\n",
       "<1H OCEAN     9034\n",
       "INLAND        6496\n",
       "NEAR OCEAN    2628\n",
       "NEAR BAY      2270\n",
       "ISLAND           5\n",
       "Name: count, dtype: int64"
      ]
     },
     "execution_count": 6,
     "metadata": {},
     "output_type": "execute_result"
    }
   ],
   "source": [
    "data['ocean_proximity'].value_counts()"
   ]
  },
  {
   "cell_type": "code",
   "execution_count": 7,
   "id": "c687630e",
   "metadata": {},
   "outputs": [],
   "source": [
    "data = data.drop(data[data['ocean_proximity'] == 'ISLAND'].index)"
   ]
  },
  {
   "cell_type": "code",
   "execution_count": 8,
   "id": "38bc5ec5",
   "metadata": {},
   "outputs": [
    {
     "data": {
      "image/png": "[encoded data removed]",
      "text/plain": [
       "<Figure size 1500x600 with 10 Axes>"
      ]
     },
     "metadata": {},
     "output_type": "display_data"
    }
   ],
   "source": [
    "import matplotlib.pyplot as plt\n",
    "%matplotlib inline\n",
    "\n",
    "fig = plt.figure(figsize=(15, 6))\n",
    "for i, feature in enumerate(list(data.columns), 1):\n",
    "    subplot = fig.add_subplot(2, 5, i)\n",
    "    subplot.set_title(feature)\n",
    "    plt.hist(data[feature], bins=50)"
   ]
  },
  {
   "cell_type": "markdown",
   "id": "cd2bd1e9",
   "metadata": {},
   "source": [
    "### 2. Разделите данные на test и train"
   ]
  },
  {
   "cell_type": "code",
   "execution_count": 31,
   "id": "2aabc859",
   "metadata": {},
   "outputs": [],
   "source": [
    "from sklearn.model_selection import train_test_split\n",
    "from sklearn.preprocessing import StandardScaler\n",
    "from sklearn.preprocessing import LabelEncoder"
   ]
  },
  {
   "cell_type": "code",
   "execution_count": 32,
   "id": "85bfb187",
   "metadata": {},
   "outputs": [],
   "source": [
    "le = LabelEncoder()\n",
    "data['ocean_proximity']= le.fit_transform(data['ocean_proximity']) "
   ]
  },
  {
   "cell_type": "code",
   "execution_count": 33,
   "id": "bceb4387",
   "metadata": {},
   "outputs": [],
   "source": [
    "X = data.loc[:, data.columns != 'median_house_value']\n",
    "y = data['median_house_value']\n",
    "\n",
    "X = pd.DataFrame(StandardScaler().fit_transform(X), columns=X.columns)\n",
    "\n",
    "X = X.astype('float32')\n",
    "y = y.astype('float32')"
   ]
  },
  {
   "cell_type": "code",
   "execution_count": 34,
   "id": "c0d40cd3",
   "metadata": {},
   "outputs": [],
   "source": [
    "features = torch.Tensor(X.values)\n",
    "labels = torch.Tensor(y.values)"
   ]
  },
  {
   "cell_type": "code",
   "execution_count": 35,
   "id": "3831d9ba",
   "metadata": {},
   "outputs": [],
   "source": [
    "X_train,  X_test, y_train, y_test = train_test_split(features, labels, test_size=0.2, random_state=13)"
   ]
  },
  {
   "cell_type": "markdown",
   "id": "c3f864d1",
   "metadata": {},
   "source": [
    "### 3. Создать модель (объект) класса. Для создания объекта можно использовать класс Sequential"
   ]
  },
  {
   "cell_type": "code",
   "execution_count": 36,
   "id": "6b6d336a",
   "metadata": {},
   "outputs": [
    {
     "name": "stdout",
     "output_type": "stream",
     "text": [
      "tensor([[ 0.7890, -0.8912, -0.9237,  1.1907,  1.2033,  0.8955,  1.2699,  0.2651,\n",
      "         -0.8985],\n",
      "        [-1.3221,  1.0515, -0.6855, -1.1631, -1.2456, -1.2302, -1.2672, -0.7513,\n",
      "          1.0418],\n",
      "        [-1.8711,  1.7724, -0.5266, -0.2525, -0.2513, -0.2578, -0.2550, -0.7796,\n",
      "         -0.8985],\n",
      "        [ 0.2800, -0.1843, -1.7975, -1.1699, -1.2384, -1.1993, -1.2515, -0.3930,\n",
      "          0.0716],\n",
      "        [-0.8529,  1.0702,  0.5854, -0.9782, -1.0035, -0.8596, -0.9821, -0.8955,\n",
      "          0.0716],\n",
      "        [ 0.6393, -0.7273,  0.7443, -1.0327, -0.9679, -0.8649, -0.9403, -1.0229,\n",
      "         -0.8985],\n",
      "        [ 0.8889, -0.8724, -0.4472,  0.4389, -0.2062, -0.1175, -0.1085,  2.4581,\n",
      "         -0.8985],\n",
      "        [-1.8910,  1.6928, -0.9237, -0.7091, -0.6737, -0.7969, -0.7781, -0.6760,\n",
      "         -0.8985],\n",
      "        [ 0.6892, -0.8678,  0.0294, -0.6712, -0.4008, -0.0239, -0.3308, -0.8514,\n",
      "          2.0119],\n",
      "        [-0.8679,  1.2294, -0.5266, -0.3975, -0.3367, -0.3707, -0.2079, -1.0460,\n",
      "          0.0716]]) tensor([0.4806, 0.9485, 0.1600, 0.1031, 0.0934, 0.2526, 0.8996, 0.2670, 0.2913,\n",
      "        0.1511])\n"
     ]
    }
   ],
   "source": [
    "batch_size = 10\n",
    "dataset = TensorDataset(X_train, y_train)\n",
    "data_iter = DataLoader(dataset, batch_size, shuffle=True)\n",
    "\n",
    "for X, y in data_iter:\n",
    "    print(X, y)\n",
    "    break"
   ]
  },
  {
   "cell_type": "code",
   "execution_count": 37,
   "id": "4ea1d59c",
   "metadata": {},
   "outputs": [
    {
     "data": {
      "text/plain": [
       "torch.Size([16342, 9])"
      ]
     },
     "execution_count": 37,
     "metadata": {},
     "output_type": "execute_result"
    }
   ],
   "source": [
    "X_train.shape"
   ]
  },
  {
   "cell_type": "code",
   "execution_count": 46,
   "id": "10b89ead",
   "metadata": {},
   "outputs": [],
   "source": [
    "model = torch.nn.Sequential(\n",
    "    torch.nn.Linear(9, 1),\n",
    "    torch.nn.Sigmoid()\n",
    ")\n",
    "\n",
    "loss = torch.nn.MSELoss(reduction='mean')\n",
    "optimizer = torch.optim.SGD(model.parameters(), lr=0.01)"
   ]
  },
  {
   "cell_type": "markdown",
   "id": "8de718dc",
   "metadata": {},
   "source": [
    "### 4. Обучите модель на train данных"
   ]
  },
  {
   "cell_type": "code",
   "execution_count": 56,
   "id": "e8b85f06",
   "metadata": {},
   "outputs": [
    {
     "name": "stdout",
     "output_type": "stream",
     "text": [
      "epoch 10, loss: 0.018356\n",
      "epoch 20, loss: 0.018351\n",
      "epoch 30, loss: 0.018352\n",
      "epoch 40, loss: 0.018352\n",
      "epoch 50, loss: 0.018351\n",
      "epoch 60, loss: 0.018365\n",
      "epoch 70, loss: 0.018364\n",
      "epoch 80, loss: 0.018353\n",
      "epoch 90, loss: 0.018357\n",
      "epoch 100, loss: 0.018358\n"
     ]
    }
   ],
   "source": [
    "num_epochs = 100\n",
    "for epoch in range(1, num_epochs + 1):\n",
    "    for X, y in data_iter:\n",
    "        optimizer.zero_grad()\n",
    "        l = loss(model(X).reshape(-1), y)\n",
    "        l.backward()\n",
    "        optimizer.step()\n",
    "    l = loss(model(X_train).reshape(-1), y_train)\n",
    "    if epoch % 10 == 0:\n",
    "        print('epoch %d, loss: %f' % (epoch, l.item()))  "
   ]
  },
  {
   "cell_type": "markdown",
   "id": "a2595f9d",
   "metadata": {},
   "source": [
    "### 5. Проверьте качество модели на тестовых данных"
   ]
  },
  {
   "cell_type": "markdown",
   "id": "658786b3",
   "metadata": {},
   "source": [
    "#### 5.1 Тестовый лосс (не уверен что корректно)"
   ]
  },
  {
   "cell_type": "code",
   "execution_count": 48,
   "id": "ec952487",
   "metadata": {
    "scrolled": true
   },
   "outputs": [
    {
     "name": "stdout",
     "output_type": "stream",
     "text": [
      "test loss: 0.018512\n"
     ]
    }
   ],
   "source": [
    "test = loss(model(X_test).reshape(-1), y_test)\n",
    "print('test loss: %f' % (test.item()))"
   ]
  },
  {
   "cell_type": "markdown",
   "id": "94e3b7c8",
   "metadata": {},
   "source": [
    "#### 5.2 ручная функция MSE, тоже не совсем ясно, что происходит"
   ]
  },
  {
   "cell_type": "code",
   "execution_count": 49,
   "id": "0a947524",
   "metadata": {},
   "outputs": [],
   "source": [
    "import numpy as np"
   ]
  },
  {
   "cell_type": "code",
   "execution_count": 70,
   "id": "b591088b",
   "metadata": {},
   "outputs": [],
   "source": [
    "# with torch.no_grad():\n",
    "predicted = model(X_test).detach().numpy()"
   ]
  },
  {
   "cell_type": "code",
   "execution_count": 51,
   "id": "1427c757",
   "metadata": {},
   "outputs": [],
   "source": [
    "def calculate_mse(predicted, actual):\n",
    "\n",
    "    assert len(predicted) == len(actual), \"Длины массивов должны быть одинаковыми.\"\n",
    "\n",
    "    # Вычисление суммы квадратов разностей\n",
    "    squared_errors = np.square(predicted - actual)\n",
    "    sum_squared_errors = np.sum(squared_errors)\n",
    "\n",
    "    # Вычисление MSE\n",
    "    mse = sum_squared_errors / len(predicted)\n",
    "\n",
    "    return mse"
   ]
  },
  {
   "cell_type": "code",
   "execution_count": 71,
   "id": "cacae42f",
   "metadata": {},
   "outputs": [
    {
     "name": "stdout",
     "output_type": "stream",
     "text": [
      "TEST MSE: 381.31721120900636\n"
     ]
    }
   ],
   "source": [
    "mse = calculate_mse(predicted, y_test.numpy())\n",
    "print(\"TEST MSE:\", mse)"
   ]
  },
  {
   "cell_type": "markdown",
   "id": "a8902fb6",
   "metadata": {},
   "source": [
    "#### 5.3 Веса и байес, берем по позиции тензоров тестовых X и y и сверяем через функцию сигмойды и сравниваем с предсказаниями"
   ]
  },
  {
   "cell_type": "code",
   "execution_count": 63,
   "id": "a161af46",
   "metadata": {},
   "outputs": [
    {
     "data": {
      "text/plain": [
       "(tensor([ 0.8340, -0.6992,  0.5060, -0.1729, -0.0781,  0.1199,  0.0249, -0.2986,\n",
       "         -0.8985]),\n",
       " tensor(0.2897))"
      ]
     },
     "execution_count": 63,
     "metadata": {},
     "output_type": "execute_result"
    }
   ],
   "source": [
    "W, B = model[0].weight.data.numpy(), model[0].bias.data.numpy()\n",
    "X_test[54,:], y_test[54]"
   ]
  },
  {
   "cell_type": "code",
   "execution_count": 65,
   "id": "7cfd3398",
   "metadata": {},
   "outputs": [],
   "source": [
    "test1 = X_test[54,:].numpy()"
   ]
  },
  {
   "cell_type": "code",
   "execution_count": 66,
   "id": "31c5d304",
   "metadata": {},
   "outputs": [],
   "source": [
    "def sigmoid(x):\n",
    "    return 1 / ( 1 + np.exp(-x))"
   ]
  },
  {
   "cell_type": "code",
   "execution_count": 68,
   "id": "5182a4f0",
   "metadata": {},
   "outputs": [
    {
     "data": {
      "text/plain": [
       "array([0.31100732], dtype=float32)"
      ]
     },
     "execution_count": 68,
     "metadata": {},
     "output_type": "execute_result"
    }
   ],
   "source": [
    "predict = np.dot(W, test1) + B\n",
    "sigmoid(predict)"
   ]
  },
  {
   "cell_type": "code",
   "execution_count": 69,
   "id": "c48e458e",
   "metadata": {},
   "outputs": [
    {
     "data": {
      "text/plain": [
       "tensor([0.3110], grad_fn=<SigmoidBackward0>)"
      ]
     },
     "execution_count": 69,
     "metadata": {},
     "output_type": "execute_result"
    }
   ],
   "source": [
    "predict = model(torch.Tensor(test1))\n",
    "predict"
   ]
  }
 ],
 "metadata": {
  "kernelspec": {
   "display_name": "Python 3 (ipykernel)",
   "language": "python",
   "name": "python3"
  },
  "language_info": {
   "codemirror_mode": {
    "name": "ipython",
    "version": 3
   },
   "file_extension": ".py",
   "mimetype": "text/x-python",
   "name": "python",
   "nbconvert_exporter": "python",
   "pygments_lexer": "ipython3",
   "version": "3.9.18"
  }
 },
 "nbformat": 4,
 "nbformat_minor": 5
}
