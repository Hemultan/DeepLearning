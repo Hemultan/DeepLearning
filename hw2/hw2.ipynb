{
 "cells": [
  {
   "cell_type": "code",
   "execution_count": 1,
   "id": "a88e513c",
   "metadata": {},
   "outputs": [],
   "source": [
    "import torch\n",
    "import torchvision as tv\n",
    "\n",
    "import pandas as pd\n",
    "import numpy as np"
   ]
  },
  {
   "cell_type": "markdown",
   "id": "4e247d63",
   "metadata": {},
   "source": [
    "### 1. Скачайте тренировочную и тестовою часть датасета Fashion MNIST\n"
   ]
  },
  {
   "cell_type": "code",
   "execution_count": 2,
   "id": "dd202c21",
   "metadata": {},
   "outputs": [
    {
     "data": {
      "text/plain": [
       "torch.Size([1, 28, 28])"
      ]
     },
     "execution_count": 2,
     "metadata": {},
     "output_type": "execute_result"
    }
   ],
   "source": [
    "BatchSize = 256\n",
    "\n",
    "train_dataset = tv.datasets.FashionMNIST('.', train = True, transform = tv.transforms.ToTensor(), download = True)\n",
    "test_dataset = tv.datasets.FashionMNIST('.', train=False, transform = tv.transforms.ToTensor(), download = True)\n",
    "train = torch.utils.data.DataLoader(train_dataset, batch_size = BatchSize, shuffle = True)\n",
    "test = torch.utils.data.DataLoader(test_dataset, batch_size = BatchSize, shuffle = True)\n",
    "\n",
    "train_dataset[0][0].shape"
   ]
  },
  {
   "cell_type": "markdown",
   "id": "c4117f5e",
   "metadata": {},
   "source": [
    "### 2. Постройте модель, выбрав стартовую архитектуру\n"
   ]
  },
  {
   "cell_type": "code",
   "execution_count": 3,
   "id": "f5fb5560",
   "metadata": {},
   "outputs": [],
   "source": [
    "model = torch.nn.Sequential(\n",
    "    torch.nn.Flatten(),\n",
    "    torch.nn.Linear(784, 512),\n",
    "    torch.nn.BatchNorm1d(512),\n",
    "    torch.nn.ReLU(),\n",
    "    torch.nn.Linear(512, 256),\n",
    "    torch.nn.BatchNorm1d(256),\n",
    "    torch.nn.ReLU(),\n",
    "    torch.nn.Linear(256, 10)\n",
    ")"
   ]
  },
  {
   "cell_type": "code",
   "execution_count": 4,
   "id": "6ef39772",
   "metadata": {},
   "outputs": [],
   "source": [
    "loss = torch.nn.CrossEntropyLoss()\n",
    "optimizer = torch.optim.Adam(model.parameters(), lr=.01)\n",
    "num_epochs = 10"
   ]
  },
  {
   "cell_type": "markdown",
   "id": "621e3b41",
   "metadata": {},
   "source": [
    "### 3. Обучите модель и сверьте качество на тестовой части с заданным порогом\n"
   ]
  },
  {
   "cell_type": "code",
   "execution_count": 5,
   "id": "57df29b8",
   "metadata": {},
   "outputs": [],
   "source": [
    "import time\n",
    "\n",
    "def train_model():\n",
    "    for ep in range(num_epochs):\n",
    "        train_iters, train_passed  = 0, 0\n",
    "        train_loss, train_acc = 0., 0.\n",
    "        start=time.time()\n",
    "        \n",
    "        model.train()\n",
    "        for X, y in train:\n",
    "            optimizer.zero_grad()\n",
    "            y_pred = model(X)\n",
    "            l = loss(y_pred, y)\n",
    "            l.backward()\n",
    "            optimizer.step()\n",
    "            train_loss += l.item()\n",
    "            train_acc += (y_pred.argmax(dim=1) == y).sum().item()\n",
    "            train_iters += 1\n",
    "            train_passed += len(X)\n",
    "        \n",
    "        test_iters, test_passed  = 0, 0\n",
    "        test_loss, test_acc = 0., 0.\n",
    "        model.eval()\n",
    "        for X, y in test:\n",
    "            y_pred = model(X)\n",
    "            l = loss(y_pred, y)\n",
    "            test_loss += l.item()\n",
    "            test_acc += (y_pred.argmax(dim=1) == y).sum().item()\n",
    "            test_iters += 1\n",
    "            test_passed += len(X)\n",
    "            \n",
    "        print(\"ep: {}, time: {:.3f}, train_loss: {:.6f}, train_acc: {:.6f}, test_loss: {:.6f}, test_acc: {:.6f}\".format(\n",
    "            ep+1, time.time() - start, train_loss / train_iters, train_acc / train_passed,\n",
    "            test_loss / test_iters, test_acc / test_passed)\n",
    "        )"
   ]
  },
  {
   "cell_type": "code",
   "execution_count": 6,
   "id": "a9a595b3",
   "metadata": {},
   "outputs": [
    {
     "name": "stdout",
     "output_type": "stream",
     "text": [
      "ep: 1, time: 9.797, train_loss: 0.463484, train_acc: 0.828167, test_loss: 0.403498, test_acc: 0.850000\n",
      "ep: 2, time: 10.022, train_loss: 0.344198, train_acc: 0.872467, test_loss: 0.361498, test_acc: 0.866500\n",
      "ep: 3, time: 10.145, train_loss: 0.298877, train_acc: 0.888317, test_loss: 0.350229, test_acc: 0.872300\n",
      "ep: 4, time: 10.176, train_loss: 0.274886, train_acc: 0.896333, test_loss: 0.378572, test_acc: 0.865800\n",
      "ep: 5, time: 10.173, train_loss: 0.253937, train_acc: 0.903883, test_loss: 0.361604, test_acc: 0.870700\n",
      "ep: 6, time: 10.199, train_loss: 0.234114, train_acc: 0.911117, test_loss: 0.349672, test_acc: 0.871000\n",
      "ep: 7, time: 10.254, train_loss: 0.221179, train_acc: 0.917183, test_loss: 0.381089, test_acc: 0.869000\n",
      "ep: 8, time: 10.276, train_loss: 0.206067, train_acc: 0.922050, test_loss: 0.343048, test_acc: 0.881100\n",
      "ep: 9, time: 10.241, train_loss: 0.189118, train_acc: 0.928367, test_loss: 0.395982, test_acc: 0.876400\n",
      "ep: 10, time: 10.184, train_loss: 0.179903, train_acc: 0.931950, test_loss: 0.381281, test_acc: 0.875300\n"
     ]
    }
   ],
   "source": [
    "train_model()"
   ]
  },
  {
   "cell_type": "markdown",
   "id": "54c24599",
   "metadata": {},
   "source": [
    "### 4. Изменяйте архитектуру модели пока качество на тестовой части не будет выше порога. Вариации архитектуры можно реализовать через изменение количества слоёв, количества нейронов в слоях и использование регуляризации. Можно использовать различные оптимизаторы."
   ]
  },
  {
   "cell_type": "code",
   "execution_count": 21,
   "id": "8ee7eb8e",
   "metadata": {},
   "outputs": [],
   "source": [
    "model = torch.nn.Sequential(\n",
    "    torch.nn.Flatten(),\n",
    "    torch.nn.Linear(784, 1024),\n",
    "    torch.nn.BatchNorm1d(1024),\n",
    "    torch.nn.Dropout(0.3),\n",
    "    torch.nn.ReLU(),\n",
    "    torch.nn.Linear(1024, 512),\n",
    "    torch.nn.BatchNorm1d(512),\n",
    "    torch.nn.Dropout(0.3),\n",
    "    torch.nn.ReLU(),\n",
    "    torch.nn.Linear(512, 128),\n",
    "    torch.nn.BatchNorm1d(128),\n",
    "    torch.nn.Dropout(0.3),\n",
    "    torch.nn.ReLU(),\n",
    "    torch.nn.Linear(128, 10)\n",
    ")"
   ]
  },
  {
   "cell_type": "code",
   "execution_count": 22,
   "id": "f2ba1c11",
   "metadata": {},
   "outputs": [],
   "source": [
    "loss = torch.nn.CrossEntropyLoss()\n",
    "optimizer = torch.optim.Adam(model.parameters(), lr=.01)\n",
    "num_epochs = 20"
   ]
  },
  {
   "cell_type": "code",
   "execution_count": 23,
   "id": "9dd3afbf",
   "metadata": {},
   "outputs": [
    {
     "name": "stdout",
     "output_type": "stream",
     "text": [
      "ep: 1, time: 12.794, train_loss: 0.513673, train_acc: 0.815467, test_loss: 0.449510, test_acc: 0.835900\n",
      "ep: 2, time: 12.763, train_loss: 0.396838, train_acc: 0.856750, test_loss: 0.402423, test_acc: 0.855300\n",
      "ep: 3, time: 12.781, train_loss: 0.352971, train_acc: 0.870817, test_loss: 0.378719, test_acc: 0.864100\n",
      "ep: 4, time: 14.282, train_loss: 0.332042, train_acc: 0.878950, test_loss: 0.348784, test_acc: 0.870300\n",
      "ep: 5, time: 13.227, train_loss: 0.309932, train_acc: 0.885683, test_loss: 0.393002, test_acc: 0.857600\n",
      "ep: 6, time: 12.971, train_loss: 0.297630, train_acc: 0.890000, test_loss: 0.332607, test_acc: 0.880000\n",
      "ep: 7, time: 13.105, train_loss: 0.282188, train_acc: 0.895233, test_loss: 0.326595, test_acc: 0.882000\n",
      "ep: 8, time: 12.976, train_loss: 0.274242, train_acc: 0.898433, test_loss: 0.332883, test_acc: 0.880100\n",
      "ep: 9, time: 14.470, train_loss: 0.264783, train_acc: 0.901650, test_loss: 0.331871, test_acc: 0.882400\n",
      "ep: 10, time: 15.004, train_loss: 0.254179, train_acc: 0.904300, test_loss: 0.330657, test_acc: 0.884600\n",
      "ep: 11, time: 14.061, train_loss: 0.249284, train_acc: 0.908650, test_loss: 0.331100, test_acc: 0.883600\n",
      "ep: 12, time: 13.817, train_loss: 0.241007, train_acc: 0.910150, test_loss: 0.327572, test_acc: 0.883100\n",
      "ep: 13, time: 14.393, train_loss: 0.232626, train_acc: 0.913117, test_loss: 0.342514, test_acc: 0.884500\n",
      "ep: 14, time: 14.233, train_loss: 0.226917, train_acc: 0.915050, test_loss: 0.329579, test_acc: 0.889300\n",
      "ep: 15, time: 13.205, train_loss: 0.216488, train_acc: 0.919200, test_loss: 0.336641, test_acc: 0.891400\n",
      "ep: 16, time: 12.825, train_loss: 0.212190, train_acc: 0.921650, test_loss: 0.341341, test_acc: 0.884300\n",
      "ep: 17, time: 12.766, train_loss: 0.209230, train_acc: 0.920233, test_loss: 0.309108, test_acc: 0.888700\n",
      "ep: 18, time: 12.770, train_loss: 0.200603, train_acc: 0.924650, test_loss: 0.313075, test_acc: 0.894700\n",
      "ep: 19, time: 12.758, train_loss: 0.196862, train_acc: 0.926167, test_loss: 0.310214, test_acc: 0.896100\n",
      "ep: 20, time: 12.738, train_loss: 0.191041, train_acc: 0.928533, test_loss: 0.323891, test_acc: 0.893500\n"
     ]
    }
   ],
   "source": [
    "train_model()"
   ]
  },
  {
   "cell_type": "code",
   "execution_count": 24,
   "id": "34573f0f",
   "metadata": {},
   "outputs": [
    {
     "data": {
      "text/plain": [
       "'Результат test_acc: 0.896100'"
      ]
     },
     "execution_count": 24,
     "metadata": {},
     "output_type": "execute_result"
    }
   ],
   "source": [
    "# Добавили слоев и расшири количество нейронов, также добавили слои с Дропаутом. \n",
    "# Дополнительно немного поэкспеременитровав, оешил увеличить количество эпох до 20.\n",
    "\n",
    "\"\"\"Результат test_acc: 0.896100\"\"\""
   ]
  }
 ],
 "metadata": {
  "kernelspec": {
   "display_name": "Python 3 (ipykernel)",
   "language": "python",
   "name": "python3"
  },
  "language_info": {
   "codemirror_mode": {
    "name": "ipython",
    "version": 3
   },
   "file_extension": ".py",
   "mimetype": "text/x-python",
   "name": "python",
   "nbconvert_exporter": "python",
   "pygments_lexer": "ipython3",
   "version": "3.9.18"
  }
 },
 "nbformat": 4,
 "nbformat_minor": 5
}
