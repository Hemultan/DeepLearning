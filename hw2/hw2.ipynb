{
 "cells": [
  {
   "cell_type": "code",
   "execution_count": 1,
   "id": "a88e513c",
   "metadata": {},
   "outputs": [],
   "source": [
    "import torch\n",
    "import torchvision as tv\n",
    "\n",
    "import pandas as pd\n",
    "import numpy as np"
   ]
  },
  {
   "cell_type": "markdown",
   "id": "4e247d63",
   "metadata": {},
   "source": [
    "### 1. Скачайте тренировочную и тестовою часть датасета Fashion MNIST\n"
   ]
  },
  {
   "cell_type": "code",
   "execution_count": 2,
   "id": "5524c2cb",
   "metadata": {},
   "outputs": [
    {
     "data": {
      "text/plain": [
       "torch.Size([1, 28, 28])"
      ]
     },
     "execution_count": 2,
     "metadata": {},
     "output_type": "execute_result"
    }
   ],
   "source": [
    "BatchSize = 256\n",
    "\n",
    "train_dataset = tv.datasets.MNIST('.', train = True, transform = tv.transforms.ToTensor(), download = True)\n",
    "test_dataset = tv.datasets.MNIST('.', train=False, transform = tv.transforms.ToTensor(), download = True)\n",
    "train = torch.utils.data.DataLoader(train_dataset, batch_size = BatchSize, shuffle = True)\n",
    "test = torch.utils.data.DataLoader(test_dataset, batch_size = BatchSize, shuffle = True)\n",
    "\n",
    "train_dataset[0][0].shape"
   ]
  },
  {
   "cell_type": "markdown",
   "id": "c4117f5e",
   "metadata": {},
   "source": [
    "### 2. Постройте модель, выбрав стартовую архитектуру\n"
   ]
  },
  {
   "cell_type": "code",
   "execution_count": 3,
   "id": "f5fb5560",
   "metadata": {},
   "outputs": [],
   "source": [
    "model = torch.nn.Sequential(\n",
    "    torch.nn.Flatten(),\n",
    "    torch.nn.Linear(784, 1024),\n",
    "    torch.nn.BatchNorm1d(1024),\n",
    "    torch.nn.Dropout(0.5),\n",
    "    torch.nn.ReLU(),\n",
    "    torch.nn.Linear(1024, 512),\n",
    "    torch.nn.BatchNorm1d(512),\n",
    "    torch.nn.Dropout(0.5),\n",
    "    torch.nn.ReLU(),\n",
    "    torch.nn.Linear(512, 256),\n",
    "    torch.nn.BatchNorm1d(256),\n",
    "    torch.nn.Dropout(0.5),\n",
    "    torch.nn.ReLU(),\n",
    "    torch.nn.Linear(256, 10)\n",
    ")"
   ]
  },
  {
   "cell_type": "code",
   "execution_count": 4,
   "id": "6ef39772",
   "metadata": {},
   "outputs": [],
   "source": [
    "loss = torch.nn.CrossEntropyLoss()\n",
    "optimizer = torch.optim.Adam(model.parameters(), lr=.01)\n",
    "num_epochs = 10"
   ]
  },
  {
   "cell_type": "markdown",
   "id": "621e3b41",
   "metadata": {},
   "source": [
    "### 3. Обучите модель и сверьте качество на тестовой части с заданным порогом\n"
   ]
  },
  {
   "cell_type": "code",
   "execution_count": 5,
   "id": "57df29b8",
   "metadata": {},
   "outputs": [],
   "source": [
    "import time\n",
    "\n",
    "def train_model():\n",
    "    for ep in range(num_epochs):\n",
    "        train_iters, train_passed  = 0, 0\n",
    "        train_loss, train_acc = 0., 0.\n",
    "        start=time.time()\n",
    "        \n",
    "        model.train()\n",
    "        for X, y in train:\n",
    "            optimizer.zero_grad()\n",
    "            y_pred = model(X)\n",
    "            l = loss(y_pred, y)\n",
    "            l.backward()\n",
    "            optimizer.step()\n",
    "            train_loss += l.item()\n",
    "            train_acc += (y_pred.argmax(dim=1) == y).sum().item()\n",
    "            train_iters += 1\n",
    "            train_passed += len(X)\n",
    "        \n",
    "        test_iters, test_passed  = 0, 0\n",
    "        test_loss, test_acc = 0., 0.\n",
    "        model.eval()\n",
    "        for X, y in test:\n",
    "            y_pred = model(X)\n",
    "            l = loss(y_pred, y)\n",
    "            test_loss += l.item()\n",
    "            test_acc += (y_pred.argmax(dim=1) == y).sum().item()\n",
    "            test_iters += 1\n",
    "            test_passed += len(X)\n",
    "            \n",
    "        print(\"ep: {}, taked: {:.3f}, train_loss: {:.6f}, train_acc: {:.6f}, test_loss: {:.6f}, test_acc: {:.6f}\".format(\n",
    "            ep, time.time() - start, train_loss / train_iters, train_acc / train_passed,\n",
    "            test_loss / test_iters, test_acc / test_passed)\n",
    "        )"
   ]
  },
  {
   "cell_type": "code",
   "execution_count": 6,
   "id": "a9a595b3",
   "metadata": {},
   "outputs": [
    {
     "name": "stdout",
     "output_type": "stream",
     "text": [
      "ep: 0, taked: 12.259, train_loss: 0.284967, train_acc: 0.913500, test_loss: 0.114593, test_acc: 0.963600\n",
      "ep: 1, taked: 12.298, train_loss: 0.165462, train_acc: 0.951950, test_loss: 0.086765, test_acc: 0.972000\n",
      "ep: 2, taked: 12.462, train_loss: 0.128711, train_acc: 0.961733, test_loss: 0.075969, test_acc: 0.976300\n",
      "ep: 3, taked: 12.448, train_loss: 0.113221, train_acc: 0.966050, test_loss: 0.074234, test_acc: 0.977000\n",
      "ep: 4, taked: 12.354, train_loss: 0.096737, train_acc: 0.970933, test_loss: 0.061563, test_acc: 0.980700\n",
      "ep: 5, taked: 12.398, train_loss: 0.087156, train_acc: 0.973483, test_loss: 0.058681, test_acc: 0.981800\n",
      "ep: 6, taked: 12.431, train_loss: 0.081981, train_acc: 0.974783, test_loss: 0.058987, test_acc: 0.979800\n",
      "ep: 7, taked: 12.323, train_loss: 0.072125, train_acc: 0.977900, test_loss: 0.055894, test_acc: 0.982700\n",
      "ep: 8, taked: 12.395, train_loss: 0.067108, train_acc: 0.978900, test_loss: 0.055818, test_acc: 0.982900\n",
      "ep: 9, taked: 12.380, train_loss: 0.066480, train_acc: 0.979950, test_loss: 0.052135, test_acc: 0.984300\n"
     ]
    }
   ],
   "source": [
    "train_model()"
   ]
  },
  {
   "cell_type": "markdown",
   "id": "54c24599",
   "metadata": {},
   "source": [
    "### 4. Изменяйте архитектуру модели пока качество на тестовой части не будет выше порога. Вариации архитектуры можно реализовать через изменение количества слоёв, количества нейронов в слоях и использование регуляризации. Можно использовать различные оптимизаторы."
   ]
  },
  {
   "cell_type": "code",
   "execution_count": 7,
   "id": "8ee7eb8e",
   "metadata": {},
   "outputs": [],
   "source": [
    "# В этом нет смысла, потому что сеть уже обучена на отличный тест."
   ]
  }
 ],
 "metadata": {
  "kernelspec": {
   "display_name": "Python 3 (ipykernel)",
   "language": "python",
   "name": "python3"
  },
  "language_info": {
   "codemirror_mode": {
    "name": "ipython",
    "version": 3
   },
   "file_extension": ".py",
   "mimetype": "text/x-python",
   "name": "python",
   "nbconvert_exporter": "python",
   "pygments_lexer": "ipython3",
   "version": "3.9.18"
  }
 },
 "nbformat": 4,
 "nbformat_minor": 5
}
